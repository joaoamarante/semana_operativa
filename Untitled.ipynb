{
 "cells": [
  {
   "cell_type": "code",
   "execution_count": 1,
   "id": "35093c26-ccc7-480d-b7d9-49b1fecae254",
   "metadata": {},
   "outputs": [],
   "source": [
    "import pendulum"
   ]
  },
  {
   "cell_type": "code",
   "execution_count": 8,
   "id": "37bd82f9-5bc0-41d3-b612-e127bac1a97d",
   "metadata": {},
   "outputs": [],
   "source": [
    "data = pendulum.today().subtract(days=3).naive()"
   ]
  },
  {
   "cell_type": "code",
   "execution_count": 9,
   "id": "1e9cf0ca-4dad-464a-82ae-db0dea99e19e",
   "metadata": {},
   "outputs": [],
   "source": [
    "import calculo_rev"
   ]
  },
  {
   "cell_type": "code",
   "execution_count": 10,
   "id": "85808721-6b2a-47b2-8bb4-714bd3db0bee",
   "metadata": {},
   "outputs": [
    {
     "data": {
      "text/plain": [
       "DateTime(2021, 5, 8, 0, 0, 0)"
      ]
     },
     "execution_count": 10,
     "metadata": {},
     "output_type": "execute_result"
    }
   ],
   "source": [
    "data"
   ]
  },
  {
   "cell_type": "code",
   "execution_count": 11,
   "id": "9d089d05-88ec-4251-980e-309373d59dc1",
   "metadata": {},
   "outputs": [],
   "source": [
    "rev = calculo_rev.rev_atual(data)"
   ]
  },
  {
   "cell_type": "code",
   "execution_count": 12,
   "id": "8243fb2d-3f20-4d18-a678-519aac6c686d",
   "metadata": {},
   "outputs": [
    {
     "data": {
      "text/plain": [
       "DateTime(2021, 5, 8, 0, 0, 0)"
      ]
     },
     "execution_count": 12,
     "metadata": {},
     "output_type": "execute_result"
    }
   ],
   "source": [
    "rev"
   ]
  },
  {
   "cell_type": "code",
   "execution_count": 13,
   "id": "35e78078-f99e-4c79-82ed-61463f9295f7",
   "metadata": {},
   "outputs": [
    {
     "name": "stdout",
     "output_type": "stream",
     "text": [
      "Mesmo mês operativo. Subtraindo a semana...\n",
      "Rev0 encontrada: 01/05/2021\n"
     ]
    },
    {
     "data": {
      "text/plain": [
       "DateTime(2021, 5, 1, 0, 0, 0)"
      ]
     },
     "execution_count": 13,
     "metadata": {},
     "output_type": "execute_result"
    }
   ],
   "source": [
    "calculo_rev.calcular_rev0(rev)"
   ]
  },
  {
   "cell_type": "code",
   "execution_count": null,
   "id": "55a71462-3ac9-4f47-aad2-be066d1b2a7e",
   "metadata": {},
   "outputs": [],
   "source": [
    "rev"
   ]
  },
  {
   "cell_type": "code",
   "execution_count": null,
   "id": "85a6aa6d-8d77-4e23-8549-19f0bfd11bbf",
   "metadata": {},
   "outputs": [],
   "source": []
  }
 ],
 "metadata": {
  "kernelspec": {
   "display_name": "tok_consistido",
   "language": "python",
   "name": "tok_consistido"
  },
  "language_info": {
   "codemirror_mode": {
    "name": "ipython",
    "version": 3
   },
   "file_extension": ".py",
   "mimetype": "text/x-python",
   "name": "python",
   "nbconvert_exporter": "python",
   "pygments_lexer": "ipython3",
   "version": "3.7.10"
  }
 },
 "nbformat": 4,
 "nbformat_minor": 5
}
